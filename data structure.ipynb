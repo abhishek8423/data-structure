{
 "cells": [
  {
   "cell_type": "markdown",
   "id": "a6cda131-a7c0-4f97-8b2d-bce1977eb1e8",
   "metadata": {},
   "source": [
    "# DATA STRUCTURES"
   ]
  },
  {
   "cell_type": "markdown",
   "id": "477ea114-570d-4511-bac3-ab97a2f3f285",
   "metadata": {},
   "source": []
  },
  {
   "cell_type": "markdown",
   "id": "55c6e1de-f1d0-40f1-b5c9-3c581702f278",
   "metadata": {},
   "source": [
    "#### 1.Write a code to reverse a String."
   ]
  },
  {
   "cell_type": "code",
   "execution_count": 18,
   "id": "7822fe91-9bcd-4524-a99d-b37804369b3d",
   "metadata": {},
   "outputs": [],
   "source": [
    "string=\"abhishek\""
   ]
  },
  {
   "cell_type": "code",
   "execution_count": 20,
   "id": "9e46a426-283e-49e5-b110-3d1a9cfd31b2",
   "metadata": {},
   "outputs": [
    {
     "data": {
      "text/plain": [
       "'kehsihba'"
      ]
     },
     "execution_count": 20,
     "metadata": {},
     "output_type": "execute_result"
    }
   ],
   "source": [
    "string[::-1]"
   ]
  },
  {
   "cell_type": "markdown",
   "id": "daed9a62-ac61-4445-840a-0ba5a420c1a2",
   "metadata": {},
   "source": [
    "#### 2.Write a code to count the number of vowels in a string."
   ]
  },
  {
   "cell_type": "code",
   "execution_count": 2,
   "id": "f3841968-0ee1-42a4-9623-5179fb4393a7",
   "metadata": {},
   "outputs": [
    {
     "name": "stdin",
     "output_type": "stream",
     "text": [
      "enter the string abhishek\n"
     ]
    },
    {
     "name": "stdout",
     "output_type": "stream",
     "text": [
      "no. of vowels are: 3\n"
     ]
    }
   ],
   "source": [
    "user_input=input(\"enter the string\")\n",
    "count=0\n",
    "for char in user_input:\n",
    "    if char.lower() in 'aeiou':\n",
    "        count+=1\n",
    "print(\"no. of vowels are:\",count)\n",
    "    "
   ]
  },
  {
   "cell_type": "markdown",
   "id": "0eb0fdd4-d0a4-4330-8103-cd6808307a11",
   "metadata": {},
   "source": [
    "#### 3.Write a code to check if a given string is a palindrome or not"
   ]
  },
  {
   "cell_type": "code",
   "execution_count": 127,
   "id": "ef7744c7-787c-4bcb-93cf-922f30a5e945",
   "metadata": {},
   "outputs": [
    {
     "name": "stdin",
     "output_type": "stream",
     "text": [
      "enter the string: racecar\n"
     ]
    },
    {
     "name": "stdout",
     "output_type": "stream",
     "text": [
      "It is a palindrome\n"
     ]
    }
   ],
   "source": [
    "str1=input(\"enter the string:\")\n",
    "if str1[::-1]==str1:\n",
    "    print(\"It is a palindrome\")\n",
    "else:\n",
    "    print(\"not a palindrome\")"
   ]
  },
  {
   "cell_type": "markdown",
   "id": "dc9afe0b-0784-4111-9db1-d694017ac5d2",
   "metadata": {},
   "source": [
    "#### 4.Write a code to check if two given strings are anagrams of each other."
   ]
  },
  {
   "cell_type": "code",
   "execution_count": 144,
   "id": "1c7f54d0-3471-47a5-8011-e00c7ca873e4",
   "metadata": {},
   "outputs": [
    {
     "name": "stdin",
     "output_type": "stream",
     "text": [
      "enter the string1: rescue\n",
      "enter the string2: secure\n"
     ]
    },
    {
     "name": "stdout",
     "output_type": "stream",
     "text": [
      "Is is a Anagram\n"
     ]
    }
   ],
   "source": [
    "str2=input(\"enter the string1:\")\n",
    "str3=input(\"enter the string2:\")\n",
    "if sorted(str2)==sorted(str3):\n",
    "    print(\"Is is a Anagram\")\n",
    "else:\n",
    "    print(\"Is is not a Anagram\")"
   ]
  },
  {
   "cell_type": "markdown",
   "id": "451be7a4-93a6-46ce-a928-64612b516492",
   "metadata": {},
   "source": [
    "\n",
    "#### 5.Write a code to find all occurrances of a given substring within another string."
   ]
  },
  {
   "cell_type": "code",
   "execution_count": 169,
   "id": "a8b26765-f7d9-4f97-bcf1-c808f8d6b24f",
   "metadata": {},
   "outputs": [
    {
     "name": "stdout",
     "output_type": "stream",
     "text": [
      "Index value of cat: 4\n",
      "Index value of cat: 27\n"
     ]
    }
   ],
   "source": [
    "string = \"The cat chased the curious cat\"\n",
    "substring = \"cat\"\n",
    "for index in range(len(string)):\n",
    "    if string[index:index + len(substring)] == substring:\n",
    "        print(\"Index value of cat:\",index)\n"
   ]
  },
  {
   "cell_type": "markdown",
   "id": "4d6ea78d-b14a-48f7-b3fb-c38cd0fd4968",
   "metadata": {},
   "source": [
    "#### 6.Write a code to perform basic string compression using the counts of repeated characters."
   ]
  },
  {
   "cell_type": "code",
   "execution_count": 26,
   "id": "afe2b15d-14ed-424d-8312-9070879d48ee",
   "metadata": {},
   "outputs": [
    {
     "name": "stdout",
     "output_type": "stream",
     "text": [
      "Compressed string: a3b1c5a3\n"
     ]
    }
   ],
   "source": [
    "def compress_string(s):\n",
    "    compressed_string = \"\"\n",
    "    count = 1\n",
    "    for i in range(1, len(s)):\n",
    "        if s[i] == s[i - 1]: \n",
    "            count += 1\n",
    "        else:\n",
    "            compressed_string += s[i - 1] + str(count)  \n",
    "            count = 1  \n",
    "   \n",
    "    compressed_string += s[-1] + str(count)\n",
    "    return compressed_string if len(compressed_string) < len(s) else s\n",
    "input_string = \"aaabcccccaaa\"\n",
    "compressed = compress_string(input_string)\n",
    "print(f\"Compressed string: {compressed}\")\n"
   ]
  },
  {
   "cell_type": "markdown",
   "id": "793a5a74-bb71-4017-bf15-b8adcf6e4080",
   "metadata": {},
   "source": [
    "#### 7.Write a code to determine if string has all unique characters."
   ]
  },
  {
   "cell_type": "code",
   "execution_count": 12,
   "id": "67081da1-9d8f-4471-92c1-bde12985d9fd",
   "metadata": {},
   "outputs": [
    {
     "name": "stdout",
     "output_type": "stream",
     "text": [
      "Does 'abcdefg' have all unique characters? True\n"
     ]
    }
   ],
   "source": [
    "def has_unique_characters(input_string):\n",
    "    seen_characters = set()\n",
    "    for char in input_string:\n",
    "        if char in seen_characters:\n",
    "            return False\n",
    "        seen_characters.add(char)\n",
    "    return True \n",
    "input_string = \"abcdefg\"\n",
    "result = has_unique_characters(input_string)\n",
    "print(f\"Does '{input_string}' have all unique characters? {result}\")"
   ]
  },
  {
   "cell_type": "markdown",
   "id": "de2d2425-3f4a-47ce-a048-a773531634e2",
   "metadata": {},
   "source": [
    "#### 8.Write a code to convert a given string to uppercase or lowercase."
   ]
  },
  {
   "cell_type": "code",
   "execution_count": 2,
   "id": "ab7f072b-4ead-45b4-b184-70391f7d3ea7",
   "metadata": {},
   "outputs": [
    {
     "name": "stdin",
     "output_type": "stream",
     "text": [
      " abhishek\n"
     ]
    },
    {
     "data": {
      "text/plain": [
       "'ABHISHEK'"
      ]
     },
     "execution_count": 2,
     "metadata": {},
     "output_type": "execute_result"
    }
   ],
   "source": [
    "string=input()\n",
    "string.upper()"
   ]
  },
  {
   "cell_type": "markdown",
   "id": "0317f928-eafe-44ec-84c3-27896df1d1d8",
   "metadata": {},
   "source": [
    "#### 9.Write a code to count the number of words in a string."
   ]
  },
  {
   "cell_type": "code",
   "execution_count": 4,
   "id": "fec43fdf-2169-4bf9-b246-bdb0f70add0b",
   "metadata": {},
   "outputs": [
    {
     "name": "stdin",
     "output_type": "stream",
     "text": [
      " abhishek\n"
     ]
    },
    {
     "data": {
      "text/plain": [
       "8"
      ]
     },
     "execution_count": 4,
     "metadata": {},
     "output_type": "execute_result"
    }
   ],
   "source": [
    "string=input()\n",
    "len(string)"
   ]
  },
  {
   "cell_type": "markdown",
   "id": "d684fb1e-a1aa-4e33-a66a-a780022b923e",
   "metadata": {},
   "source": [
    "#### 10.Write a code to concatenate two strings without using + operator."
   ]
  },
  {
   "cell_type": "code",
   "execution_count": 8,
   "id": "79a07efc-8f1d-42aa-953f-bcf85a1fde9c",
   "metadata": {},
   "outputs": [
    {
     "name": "stdout",
     "output_type": "stream",
     "text": [
      "My name is Abhishek\n"
     ]
    }
   ],
   "source": [
    "str1=\"My name is\"\n",
    "str2=\"Abhishek\"\n",
    "print(str1 ,str2)"
   ]
  },
  {
   "cell_type": "markdown",
   "id": "12b021fc-b6c8-4bc8-bf06-1fd8728c3315",
   "metadata": {},
   "source": [
    "#### 11.Write a code to remove all occurances of a specific element from a list."
   ]
  },
  {
   "cell_type": "code",
   "execution_count": 11,
   "id": "40cad09b-a604-4b0d-87a0-dfe89e208e61",
   "metadata": {},
   "outputs": [
    {
     "name": "stdout",
     "output_type": "stream",
     "text": [
      "Original list: [1, 2, 3, 2, 4, 2, 5, 6]\n",
      "List after removing all occurrences of 2 : [1, 3, 4, 5, 6]\n"
     ]
    }
   ],
   "source": [
    "def remove_all_occurrences(input_list, element):\n",
    "    return [item for item in input_list if item != element]\n",
    "my_list = [1, 2, 3, 2, 4, 2, 5, 6]\n",
    "element_to_remove = 2\n",
    "new_list = remove_all_occurrences(my_list, element_to_remove)\n",
    "print(\"Original list:\", my_list)\n",
    "print(\"List after removing all occurrences of\", element_to_remove, \":\", new_list)"
   ]
  },
  {
   "cell_type": "markdown",
   "id": "a75a856d-ede3-4905-b8b1-c7a2b0bc8727",
   "metadata": {},
   "source": [
    "#### 12.Implement a code to find the second largest number in the given list of integer."
   ]
  },
  {
   "cell_type": "code",
   "execution_count": 16,
   "id": "f9564d62-ac64-4549-9cae-14c0fbde6480",
   "metadata": {},
   "outputs": [
    {
     "data": {
      "text/plain": [
       "set"
      ]
     },
     "execution_count": 16,
     "metadata": {},
     "output_type": "execute_result"
    }
   ],
   "source": [
    "ls1=[10,40,42,67,21,89,100,201]\n",
    "ls2=set(ls1)\n",
    "\n",
    "type(ls2)"
   ]
  },
  {
   "cell_type": "markdown",
   "id": "9831053a-3c81-4e32-abc7-68ae8feb5633",
   "metadata": {},
   "source": [
    "#### 13.Create a code to count a occurances of each element in the list and return a dictonary with elements as keys and their counts as values."
   ]
  },
  {
   "cell_type": "code",
   "execution_count": 6,
   "id": "5eecae2f-da79-47b1-8e3a-ad38694f9964",
   "metadata": {},
   "outputs": [
    {
     "name": "stdout",
     "output_type": "stream",
     "text": [
      "{'apple': 3, 'banana': 2, 'orange': 1}\n"
     ]
    }
   ],
   "source": [
    "elements = [\"apple\", \"banana\", \"apple\", \"orange\", \"banana\", \"apple\"]\n",
    "count_dict = {}\n",
    "for i in elements:\n",
    "    if i in count_dict:\n",
    "        count_dict[i] += 1\n",
    "    else:\n",
    "         count_dict[i] = 1\n",
    "print(count_dict)\n"
   ]
  },
  {
   "cell_type": "markdown",
   "id": "79b534d5-32cf-4f92-b8fd-4c07a53905f0",
   "metadata": {},
   "source": [
    "#### 15.Implement a code to find and remove duplicates from a list while preserving  the original order of elements."
   ]
  },
  {
   "cell_type": "code",
   "execution_count": 10,
   "id": "0d45f188-ebc5-4d06-83c1-fa2908d83913",
   "metadata": {},
   "outputs": [
    {
     "name": "stdout",
     "output_type": "stream",
     "text": [
      "Original list: [1, 2, 3, 2, 4, 1, 5, 3]\n",
      "List without duplicates: [1, 2, 3, 4, 5]\n"
     ]
    }
   ],
   "source": [
    "def remove_duplicates(input_list):\n",
    "    seen = set()\n",
    "    result = [] \n",
    "    for item in input_list:\n",
    "        if item not in seen:\n",
    "            result.append(item) \n",
    "            seen.add(item)    \n",
    "    return result\n",
    "my_list = [1, 2, 3, 2, 4, 1, 5, 3]\n",
    "unique_list = remove_duplicates(my_list)\n",
    "print(\"Original list:\", my_list)\n",
    "print(\"List without duplicates:\", unique_list)"
   ]
  },
  {
   "cell_type": "markdown",
   "id": "73645d7f-d27a-4e37-b766-cc55f5b7b1fb",
   "metadata": {},
   "source": [
    "#### 14.Write a code to reverse a list in-place without using any built in reverse function."
   ]
  },
  {
   "cell_type": "code",
   "execution_count": 52,
   "id": "24f7a2f4-ec6c-4f5e-82a0-2126f449527c",
   "metadata": {},
   "outputs": [
    {
     "data": {
      "text/plain": [
       "['Abhishek', True, (2+3j), 2.3, 1]"
      ]
     },
     "execution_count": 52,
     "metadata": {},
     "output_type": "execute_result"
    }
   ],
   "source": [
    "list=[1,2.3,2+3j,True,\"Abhishek\"]\n",
    "list[::-1]"
   ]
  },
  {
   "cell_type": "markdown",
   "id": "009adb49-a518-4ca2-94fc-62432edc6d52",
   "metadata": {},
   "source": [
    "#### 16.Create a code to check if a given list is sorted(either i ascending or descending order)or not."
   ]
  },
  {
   "cell_type": "code",
   "execution_count": 66,
   "id": "94e6be58-f160-465f-9d03-bfc6f2a5d3d5",
   "metadata": {},
   "outputs": [
    {
     "name": "stdout",
     "output_type": "stream",
     "text": [
      "list is sorted\n"
     ]
    }
   ],
   "source": [
    "list=[\"Abhishek\",\"Bhola\",\"chimpu\"]\n",
    "if list==sorted(list):\n",
    "    print(\"list is sorted\")\n",
    "else:\n",
    "    print(\"list is not sorted\")"
   ]
  },
  {
   "cell_type": "markdown",
   "id": "cfc11e5c-56e2-4613-90e9-021c4bd6dd62",
   "metadata": {},
   "source": [
    "#### 17.Write a code to merge two sorted lists into a single sorted list."
   ]
  },
  {
   "cell_type": "code",
   "execution_count": 78,
   "id": "df86ab7b-bb88-418f-8954-17c3499a4a3d",
   "metadata": {},
   "outputs": [
    {
     "data": {
      "text/plain": [
       "['abhay', 'binod', 'chotu', 'dimple', 'himanshu', 'sahil', 'viraj']"
      ]
     },
     "execution_count": 78,
     "metadata": {},
     "output_type": "execute_result"
    }
   ],
   "source": [
    "list1=['viraj','abhay','binod','sahil']\n",
    "list2=['chotu','himanshu','dimple']\n",
    "list3=list1+list2\n",
    "sorted(list3)"
   ]
  },
  {
   "cell_type": "markdown",
   "id": "769e58ac-790d-40bc-99de-afb62bccb399",
   "metadata": {},
   "source": [
    "#### 18.Implement a code to find the Intersection of two given lists."
   ]
  },
  {
   "cell_type": "code",
   "execution_count": 98,
   "id": "0ec7e82e-07de-443c-ba2d-9763ab25e76c",
   "metadata": {},
   "outputs": [
    {
     "name": "stdout",
     "output_type": "stream",
     "text": [
      "['abhishek', 'ravi', 'rakesh']\n"
     ]
    }
   ],
   "source": [
    "list1=['abhishek','rahul','ravi','rakesh']\n",
    "list2=['ravi','binnu','abhishek','rakesh']\n",
    "list3=[]\n",
    "for char in list1:\n",
    "    if char in list2:\n",
    "        list3.append(char)\n",
    "print(list3)"
   ]
  },
  {
   "cell_type": "markdown",
   "id": "e0014ac0-8c8d-4d6e-ab4c-ac831e8368c2",
   "metadata": {},
   "source": [
    "#### 19.Create a code to find the union of two lists without duplicates."
   ]
  },
  {
   "cell_type": "code",
   "execution_count": 3,
   "id": "750dba4a-57a3-4751-909e-d18fe15fa2b1",
   "metadata": {},
   "outputs": [
    {
     "data": {
      "text/plain": [
       "['abhishek', 'rahul', 'ravi', 'rakesh', 'ravi', 'binnu', 'abhishek', 'rakesh']"
      ]
     },
     "execution_count": 3,
     "metadata": {},
     "output_type": "execute_result"
    }
   ],
   "source": [
    "list1=['abhishek','rahul','ravi','rakesh']\n",
    "list2=['ravi','binnu','abhishek','rakesh']\n",
    "list3=list1+list2\n",
    "set(list3)\n",
    "list3"
   ]
  },
  {
   "cell_type": "markdown",
   "id": "4609ed24-89e9-444f-b9d5-ff6ea6b53726",
   "metadata": {},
   "source": [
    "#### 20.Write a code to shuffle a given list randomly without using any built-in shuffle functions."
   ]
  },
  {
   "cell_type": "code",
   "execution_count": 28,
   "id": "b403aaba-b4af-4f2d-bbbc-ccc74d3dab79",
   "metadata": {},
   "outputs": [
    {
     "name": "stdout",
     "output_type": "stream",
     "text": [
      "[1, 2, 3, 5, 4]\n"
     ]
    }
   ],
   "source": [
    "import random\n",
    "\n",
    "# List to be shuffled\n",
    "lst = [1, 2, 3, 4, 5]\n",
    "random.shuffle(lst)\n",
    "print(lst)\n"
   ]
  },
  {
   "cell_type": "markdown",
   "id": "d34e2117-6196-434a-9efd-53032c828303",
   "metadata": {},
   "source": [
    "#### 21.Write a code that takes two tuples as input and returns a new tuple containing elements that are common to both input tuples."
   ]
  },
  {
   "cell_type": "code",
   "execution_count": 87,
   "id": "e76e3bf1-22c3-4d6a-bc3d-92ced2cf41a4",
   "metadata": {},
   "outputs": [
    {
     "name": "stdin",
     "output_type": "stream",
     "text": [
      "Enter the first tuple :  1,2,4,6,8\n",
      "Enter the second tuple :  2,4,1,6,9,7\n"
     ]
    },
    {
     "name": "stdout",
     "output_type": "stream",
     "text": [
      "Common elements: (1, 2, 4, 6)\n"
     ]
    }
   ],
   "source": [
    "input1 = input(\"Enter the first tuple : \")\n",
    "input2 = input(\"Enter the second tuple : \")\n",
    "tuple1 = tuple(map(int, input1.split(',')))\n",
    "tuple2 = tuple(map(int, input2.split(',')))\n",
    "common_elements = tuple(set(tuple1) & set(tuple2))\n",
    "print(\"Common elements:\", common_elements)"
   ]
  },
  {
   "cell_type": "markdown",
   "id": "5edcee5f-92a2-4d9e-88f8-b12b56607e35",
   "metadata": {},
   "source": [
    "#### 22.Create a code that prompts the user to enter two sets of integers separated by commas.Then,print the intersections of these two sets."
   ]
  },
  {
   "cell_type": "code",
   "execution_count": 89,
   "id": "8ad6fd5b-7e50-422d-bb3c-a7a7ab8f1974",
   "metadata": {},
   "outputs": [
    {
     "name": "stdin",
     "output_type": "stream",
     "text": [
      "Enter the first set :  1,2,3,5,7\n",
      "Enter the second set :  7,4,3,2,8\n"
     ]
    },
    {
     "name": "stdout",
     "output_type": "stream",
     "text": [
      "The intersection of two sets: {2, 3, 7}\n"
     ]
    }
   ],
   "source": [
    "input1 = input(\"Enter the first set : \")\n",
    "input2 = input(\"Enter the second set : \")\n",
    "set1 = set(map(int, input1.split(',')))\n",
    "set2 = set(map(int, input2.split(',')))\n",
    "intersection = set1 & set2\n",
    "print(\"The intersection of two sets:\", intersection)"
   ]
  },
  {
   "cell_type": "markdown",
   "id": "01af7c7c-38c2-4972-b98f-79c34bf75fcb",
   "metadata": {},
   "source": [
    "#### 23.Write a code to concatenate two tuples.The function should take two tuples as input containing elements from both input tuples."
   ]
  },
  {
   "cell_type": "code",
   "execution_count": 91,
   "id": "e676fa36-d62e-4eac-b13e-4de6abb0af99",
   "metadata": {},
   "outputs": [
    {
     "name": "stdin",
     "output_type": "stream",
     "text": [
      "Enter the first tuple :  1,2,3,4\n",
      "Enter the second tuple :  5,6,7,8,9\n"
     ]
    },
    {
     "name": "stdout",
     "output_type": "stream",
     "text": [
      "concatenation of two tuples : (1, 2, 3, 4, 5, 6, 7, 8, 9)\n"
     ]
    }
   ],
   "source": [
    "input1 = input(\"Enter the first tuple : \")\n",
    "input2 = input(\"Enter the second tuple : \")\n",
    "tuple1 = tuple(map(int, input1.split(',')))\n",
    "tuple2 = tuple(map(int, input2.split(',')))\n",
    "tuple3=tuple1+tuple2\n",
    "print(\"concatenation of two tuples :\", tuple3)"
   ]
  },
  {
   "cell_type": "markdown",
   "id": "f78ec514-6774-4031-9aca-ac783544a8ea",
   "metadata": {},
   "source": [
    "#### 24.Develop a code that prompts the user to input two sets of strings.Then,print the elements that are present in the first set but not in the second."
   ]
  },
  {
   "cell_type": "code",
   "execution_count": 5,
   "id": "6a13028b-55eb-4640-96d8-633290d56a71",
   "metadata": {},
   "outputs": [
    {
     "name": "stdin",
     "output_type": "stream",
     "text": [
      "Enter the elements of the first set:  this is my bike\n",
      "Enter the elements of the second set:  this is bike\n"
     ]
    },
    {
     "name": "stdout",
     "output_type": "stream",
     "text": [
      "Elements present in the first set but not in the second set:\n",
      "my\n"
     ]
    }
   ],
   "source": [
    "str1= input(\"Enter the elements of the first set: \")\n",
    "str1_set = set(str1.split())\n",
    "str2= input(\"Enter the elements of the second set: \")\n",
    "str2_set = set(str2.split())\n",
    "str3_set = set()\n",
    "for element in str1_set:\n",
    "    if element not in str2_set:\n",
    "        str3_set.add(element)\n",
    "print(\"Elements present in the first set but not in the second set:\")\n",
    "for element in str3_set:\n",
    "    print(element)\n"
   ]
  },
  {
   "cell_type": "markdown",
   "id": "2d88fc34-08a6-4fd6-8e1b-fa1e48de57e8",
   "metadata": {},
   "source": [
    "#### 25.Create a code that takes a tuples and two integers as input.The function should return a new tuple containing elements from the original tuple within the specified range of indices."
   ]
  },
  {
   "cell_type": "code",
   "execution_count": 93,
   "id": "48a198a6-0e0c-4074-815a-1d72f7f9e463",
   "metadata": {},
   "outputs": [
    {
     "name": "stdin",
     "output_type": "stream",
     "text": [
      "Enter the first set of strings :  abhishek,rohan,vineet\n",
      "Enter the second set of strings :  rohan,vineet,vikas\n"
     ]
    },
    {
     "name": "stdout",
     "output_type": "stream",
     "text": [
      "Elements in the first set but not in the second set: {'abhishek'}\n"
     ]
    }
   ],
   "source": [
    "input1 = input(\"Enter the first set of strings : \")\n",
    "input2 = input(\"Enter the second set of strings : \")\n",
    "set1 = set(input1.split(','))\n",
    "set2 = set(input2.split(','))\n",
    "difference = set1 - set2\n",
    "print(\"Elements in the first set but not in the second set:\", difference)\n"
   ]
  },
  {
   "cell_type": "markdown",
   "id": "1212ad61-93ca-4f8c-bb27-e684b272f646",
   "metadata": {},
   "source": [
    "#### 26.Write a code that prompts the user to input two sets of characters.Then, print the union of these two sets."
   ]
  },
  {
   "cell_type": "code",
   "execution_count": 99,
   "id": "028a3159-879b-41c9-92d6-d109d404d048",
   "metadata": {},
   "outputs": [
    {
     "name": "stdin",
     "output_type": "stream",
     "text": [
      "Enter the first set of characters :  a,b,c\n",
      "Enter the second set of characters :  c,d,e\n"
     ]
    },
    {
     "name": "stdout",
     "output_type": "stream",
     "text": [
      "The union of the two sets is: ['a', 'b', 'c', 'd', 'e']\n"
     ]
    }
   ],
   "source": [
    "input1 = input(\"Enter the first set of characters : \")\n",
    "input2 = input(\"Enter the second set of characters : \")\n",
    "set1 = set(input1.split(','))\n",
    "set2 = set(input2.split(','))\n",
    "union_set = set1 | set2\n",
    "print(\"The union of the two sets is:\", sorted(union_set))"
   ]
  },
  {
   "cell_type": "markdown",
   "id": "7a7eb267-8c95-4050-9b74-16aa3cc1562d",
   "metadata": {},
   "source": [
    "#### 27.Develop a code that takes a tuple of integers as input.The function should return the maximum and minimum values from the tuple using tuple unpacking."
   ]
  },
  {
   "cell_type": "code",
   "execution_count": 115,
   "id": "7d88e6ab-05ad-478a-81a4-b44e4fe42de4",
   "metadata": {},
   "outputs": [
    {
     "name": "stdin",
     "output_type": "stream",
     "text": [
      "entere the tuples : 1,4,66,44,99\n"
     ]
    },
    {
     "name": "stdout",
     "output_type": "stream",
     "text": [
      "Maximum Value : 99\n"
     ]
    }
   ],
   "source": [
    "input1=input(\"entere the tuples :\")\n",
    "tuple1=tuple(map(int ,input1.split(',')))\n",
    "maximum=max(tuple1)\n",
    "print(\"Maximum Value :\", maximum)\n"
   ]
  },
  {
   "cell_type": "markdown",
   "id": "fd028f6b-313a-4520-ad4c-19b0156772ae",
   "metadata": {},
   "source": [
    "#### 28.Create a code that defines two sets of integers.Then,print the union,intersection and difference of these two sets."
   ]
  },
  {
   "cell_type": "code",
   "execution_count": 9,
   "id": "06bfbeb5-66ba-48a8-91ec-0dc72941548b",
   "metadata": {},
   "outputs": [
    {
     "name": "stdout",
     "output_type": "stream",
     "text": [
      "Union: {1, 2, 3, 4, 5, 6, 7, 8}\n",
      "Intersection: {4, 5}\n",
      "Difference (set1 - set2): {1, 2, 3}\n"
     ]
    }
   ],
   "source": [
    "def print_set_operations(set1, set2):\n",
    "    union_set = set1.union(set2)\n",
    "    print(\"Union:\", union_set)\n",
    "    intersection_set = set1.intersection(set2)\n",
    "    print(\"Intersection:\", intersection_set)\n",
    "    difference_set = set1.difference(set2)\n",
    "    print(\"Difference (set1 - set2):\", difference_set)\n",
    "set1 = {1, 2, 3, 4, 5}\n",
    "set2 = {4, 5, 6, 7, 8}\n",
    "print_set_operations(set1, set2)"
   ]
  },
  {
   "cell_type": "markdown",
   "id": "3444002b-fced-4832-be4a-d26d466ed553",
   "metadata": {},
   "source": [
    "#### 29.Write a code that takes a tuple and an element as input.The function should return the count of occurances of the given element in the tuple."
   ]
  },
  {
   "cell_type": "code",
   "execution_count": 8,
   "id": "43fb65d5-46a6-46e0-9bd4-febe70405656",
   "metadata": {},
   "outputs": [
    {
     "name": "stdout",
     "output_type": "stream",
     "text": [
      "The element 2 occurs 3 times in the tuple.\n"
     ]
    }
   ],
   "source": [
    "def count_element_in_tuple(input_tuple, element):\n",
    "    return input_tuple.count(element)\n",
    "my_tuple = (1, 2, 3, 4, 2, 5, 2, 6)\n",
    "element = 2\n",
    "count = count_element_in_tuple(my_tuple, element)\n",
    "print(f\"The element {element} occurs {count} times in the tuple.\")"
   ]
  },
  {
   "cell_type": "markdown",
   "id": "76d78485-f53c-41b5-8ee8-275891d48354",
   "metadata": {},
   "source": [
    "#### 30.Develop acode that prompts the user to input two sets of strings.Then,print the symmetric difference of these two sets."
   ]
  },
  {
   "cell_type": "code",
   "execution_count": 7,
   "id": "ab98de47-bae0-410d-925a-7a54be44a88d",
   "metadata": {},
   "outputs": [
    {
     "name": "stdin",
     "output_type": "stream",
     "text": [
      "Enter the first set of strings (separated by spaces):  apple,banana,pineapple,pomgranate\n",
      "Enter the second set of strings (separated by spaces):  potato,ginger,guard\n"
     ]
    },
    {
     "name": "stdout",
     "output_type": "stream",
     "text": [
      "Symmetric Difference: {'potato,ginger,guard', 'apple,banana,pineapple,pomgranate'}\n"
     ]
    }
   ],
   "source": [
    "def get_input_set(prompt):\n",
    "    return set(input(prompt).split())\n",
    "\n",
    "def print_symmetric_difference(set1, set2):\n",
    "    sym_diff = set1.symmetric_difference(set2)\n",
    "    print(\"Symmetric Difference:\", sym_diff)\n",
    "set1 = get_input_set(\"Enter the first set of strings (separated by spaces): \")\n",
    "set2 = get_input_set(\"Enter the second set of strings (separated by spaces): \")\n",
    "print_symmetric_difference(set1, set2)"
   ]
  },
  {
   "cell_type": "markdown",
   "id": "a4b892b3-d544-495f-ad16-b73fffff005b",
   "metadata": {},
   "source": [
    "#### 31.Write a code that takes a list of words as input and return a dictionary where the keys are unique words and the values are the frequencies of those words in the input list."
   ]
  },
  {
   "cell_type": "code",
   "execution_count": 6,
   "id": "c2330bfb-af05-447c-9a9c-708d55e24570",
   "metadata": {},
   "outputs": [
    {
     "name": "stdout",
     "output_type": "stream",
     "text": [
      "{'apple': 3, 'banana': 2, 'orange': 1}\n"
     ]
    }
   ],
   "source": [
    "def word_frequencies(word_list):\n",
    "    freq_dict = {}\n",
    "    for word in word_list:\n",
    "        if word in freq_dict:\n",
    "            freq_dict[word] += 1\n",
    "        else:\n",
    "            freq_dict[word] = 1\n",
    "    \n",
    "    return freq_dict\n",
    "words = ['apple', 'banana', 'apple', 'orange', 'banana', 'apple']\n",
    "freq_dict = word_frequencies(words)\n",
    "\n",
    "print(freq_dict)\n"
   ]
  },
  {
   "cell_type": "markdown",
   "id": "6c1f73bf-7b15-4502-88b6-24530d76fe5e",
   "metadata": {},
   "source": [
    "#### 32.Write a code that takes two dictionaries as input and merge them into a single dictionary.If there are common keys,the values should be added together."
   ]
  },
  {
   "cell_type": "code",
   "execution_count": 5,
   "id": "bbcd5641-b332-4ea1-81bb-4a44ef8cecdf",
   "metadata": {},
   "outputs": [
    {
     "name": "stdout",
     "output_type": "stream",
     "text": [
      "{'apple': 10, 'banana': 8, 'orange': 22, 'grape': 12}\n"
     ]
    }
   ],
   "source": [
    "def merge_dicts(dict1, dict2):\n",
    "    merged_dict = dict1.copy()\n",
    "    for key, value in dict2.items():\n",
    "        if key in merged_dict:\n",
    "            merged_dict[key] += value\n",
    "        else:\n",
    "            merged_dict[key] = value\n",
    "\n",
    "    return merged_dict\n",
    "dict1 = {'apple': 10, 'banana': 5, 'orange': 15}\n",
    "dict2 = {'banana': 3, 'orange': 7, 'grape': 12}\n",
    "\n",
    "merged_dict = merge_dicts(dict1, dict2)\n",
    "print(merged_dict)\n"
   ]
  },
  {
   "cell_type": "markdown",
   "id": "27f0de99-ce87-4f04-a734-a9c2c2bc3785",
   "metadata": {},
   "source": [
    "#### 33.Write a code to access a value in a nested dictionary.The function should take the dictionary and the list of keys as input,and return the corresponding value.If any of the keys do not exist in the dictionary,the function should return None."
   ]
  },
  {
   "cell_type": "code",
   "execution_count": 4,
   "id": "82470fe9-b984-45e7-857f-e7498eaaca18",
   "metadata": {},
   "outputs": [
    {
     "name": "stdout",
     "output_type": "stream",
     "text": [
      "42\n",
      "None\n"
     ]
    }
   ],
   "source": [
    "def get_nested_value(nested_dict, key_list):\n",
    "    current_value = nested_dict\n",
    "    try:\n",
    "        for key in key_list:\n",
    "            current_value = current_value[key]\n",
    "        return current_value\n",
    "    except KeyError:\n",
    "        return None\n",
    "\n",
    "# Example usage\n",
    "nested_dict = {\n",
    "    'a': {\n",
    "        'b': {\n",
    "            'c': 42\n",
    "        }\n",
    "    }\n",
    "}\n",
    "\n",
    "key_list = ['a', 'b', 'c']\n",
    "print(get_nested_value(nested_dict, key_list)) \n",
    "\n",
    "key_list_missing = ['a', 'b', 'd']\n",
    "print(get_nested_value(nested_dict, key_list_missing)) \n"
   ]
  },
  {
   "cell_type": "markdown",
   "id": "efc4f1eb-0f0f-4d9d-9604-c54960684fdf",
   "metadata": {},
   "source": [
    "#### 34.Write a code that takes a dictionary as input and returns a sorted version of it based on the values.You can choose whether to sort in ascending or descending order."
   ]
  },
  {
   "cell_type": "code",
   "execution_count": 2,
   "id": "1c9b0a9e-49fd-4554-b7d8-e4b37c4e1d4f",
   "metadata": {},
   "outputs": [
    {
     "name": "stdout",
     "output_type": "stream",
     "text": [
      "Ascending order: {'banana': 5, 'apple': 10, 'orange': 15}\n",
      "Descending order: {'orange': 15, 'apple': 10, 'banana': 5}\n"
     ]
    }
   ],
   "source": [
    "def sort_dict_by_value(input_dict, ascending=True):\n",
    "    sorted_dict = dict(sorted(input_dict.items(), key=lambda item: item[1], reverse=not ascending))\n",
    "    return sorted_dict\n",
    "my_dict = {'apple': 10, 'banana': 5, 'orange': 15}\n",
    "sorted_asc = sort_dict_by_value(my_dict, ascending=True)\n",
    "sorted_desc = sort_dict_by_value(my_dict, ascending=False)\n",
    "\n",
    "print(\"Ascending order:\", sorted_asc)\n",
    "print(\"Descending order:\", sorted_desc)\n"
   ]
  },
  {
   "cell_type": "markdown",
   "id": "df88aad6-1fbf-4176-9dd2-c985773ea048",
   "metadata": {},
   "source": [
    "#### 35.Write a code that inverts a dictionary,swappingnkeys and values.Ensure that the inverted dictionary correctly handles cases where multiple keys have the same values by storing the keys as a list in the inverted dictionary."
   ]
  },
  {
   "cell_type": "code",
   "execution_count": 121,
   "id": "acd9f460-9301-4eae-b589-f904cfb7abb3",
   "metadata": {},
   "outputs": [
    {
     "name": "stdout",
     "output_type": "stream",
     "text": [
      "Original dictionary: {'a': 1, 'b': 2, 'c': 1, 'd': 3}\n",
      "Inverted dictionary: {1: ['a', 'c'], 2: ['b'], 3: ['d']}\n"
     ]
    }
   ],
   "source": [
    "original_dict = {\n",
    "    'a': 1,\n",
    "    'b': 2,\n",
    "    'c': 1,\n",
    "    'd': 3\n",
    "}\n",
    "inverted_dict = {}\n",
    "for key, value in original_dict.items():\n",
    "    if value in inverted_dict:\n",
    "        inverted_dict[value].append(key)\n",
    "    else:\n",
    "        inverted_dict[value] = [key]\n",
    "print(\"Original dictionary:\", original_dict)\n",
    "print(\"Inverted dictionary:\", inverted_dict)\n"
   ]
  },
  {
   "cell_type": "code",
   "execution_count": null,
   "id": "73e24a7f-55a0-4dd5-8144-49604b0f018a",
   "metadata": {},
   "outputs": [],
   "source": []
  }
 ],
 "metadata": {
  "kernelspec": {
   "display_name": "Python 3 (ipykernel)",
   "language": "python",
   "name": "python3"
  },
  "language_info": {
   "codemirror_mode": {
    "name": "ipython",
    "version": 3
   },
   "file_extension": ".py",
   "mimetype": "text/x-python",
   "name": "python",
   "nbconvert_exporter": "python",
   "pygments_lexer": "ipython3",
   "version": "3.12.4"
  }
 },
 "nbformat": 4,
 "nbformat_minor": 5
}
